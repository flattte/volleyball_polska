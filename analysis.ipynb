{
 "cells": [
  {
   "cell_type": "code",
   "execution_count": null,
   "metadata": {},
   "outputs": [],
   "source": [
    "import numpy as np\n",
    "import warnings\n",
    "warnings.simplefilter(action='ignore', category=Warning)\n",
    "import pandas as pd\n",
    "import matplotlib.pyplot as plt\n",
    "import seaborn as sns"
   ]
  },
  {
   "cell_type": "code",
   "execution_count": null,
   "metadata": {},
   "outputs": [],
   "source": [
    "# ladowanie danych\n",
    "awards = pd.read_csv(\"./data/awards.csv\")\n",
    "body_builders = pd.read_csv(\"./data/body_builders.csv\")\n",
    "coaches = pd.read_csv(\"./data/coaches.csv\")\n",
    "countries = pd.read_csv(\"./data/countries.csv\")\n",
    "matches = pd.read_csv(\"./data/matches.csv\")\n",
    "physiotherapists = pd.read_csv(\"./data/physiotherapists.csv\")\n",
    "players = pd.read_csv(\"./data/players.csv\")\n",
    "presidents = pd.read_csv(\"./data/presidents.csv\")\n",
    "press_offices = pd.read_csv(\"./data/press_offices.csv\")\n",
    "sport_directors = pd.read_csv(\"./data/sport_directors.csv\")\n",
    "stadiums = pd.read_csv(\"./data/stadiums.csv\")\n",
    "statisticians = pd.read_csv(\"./data/statisticians.csv\")\n",
    "team_mangers = pd.read_csv(\"./data/team_mangers.csv\")\n",
    "teams = pd.read_csv(\"./data/teams.csv\")\n",
    "transfers = pd.read_csv(\"./data/transfers.csv\")"
   ]
  },
  {
   "cell_type": "code",
   "execution_count": null,
   "metadata": {},
   "outputs": [],
   "source": [
    "polish_teams = teams[teams[\"country_code\"] == \"PL\"]\n",
    "polish_players = players[players[\"country_code\"] == \"PL\"]"
   ]
  },
  {
   "cell_type": "code",
   "execution_count": null,
   "metadata": {},
   "outputs": [],
   "source": [
    "# merge metches with team\n",
    "matches_have_id = matches[\"first_team_id\"].notna() & matches[\"second_team_id\"].notna()\n",
    "teams_slice = teams[[\"country_code\", \"team_id\", \"team_name\"]]\n",
    "mt = matches[matches_have_id]\n",
    "mt = mt.merge(teams_slice, left_on=\"first_team_id\", right_on=\"team_id\").rename(\n",
    "    columns={\"country_code\": \"first_team_country_code\", \"team_name\": \"first_team_name\"}\n",
    ")\n",
    "mt = mt.merge(teams_slice, left_on=\"second_team_id\", right_on=\"team_id\").rename(\n",
    "    columns={\n",
    "        \"country_code\": \"second_team_country_code\",\n",
    "        \"team_name\": \"second_team_name\",\n",
    "    }\n",
    ")\n",
    "mt[\"origin_winning_country\"] = np.where(\n",
    "    mt[\"n_set_team1\"] > mt[\"n_set_team2\"],\n",
    "    mt[\"first_team_country_code\"],\n",
    "    mt[\"second_team_country_code\"],\n",
    ")\n",
    "plt.figure(figsize=(10, 10))\n",
    "\n",
    "is_polish_team_against_other = ((mt['first_team_country_code'] == 'PL') | (mt['second_team_country_code'] == 'PL')) &  ~((mt['first_team_country_code'] == 'PL') & (mt['second_team_country_code'] == 'PL'))\n",
    "polish_vs_other = mt[is_polish_team_against_other]\n",
    "polish_vs_other['year'] = pd.to_datetime(polish_vs_other['date'], format='%m/%d/%Y').dt.year \n",
    "sns.displot(data=polish_vs_other, x=\"year\", hue=\"origin_winning_country\", multiple=\"stack\")\n",
    "plt.show()"
   ]
  },
  {
   "cell_type": "code",
   "execution_count": null,
   "metadata": {},
   "outputs": [],
   "source": [
    "plt.figure(figsize=(10, 6))\n",
    "polish_wins = polish_vs_other[polish_vs_other['origin_winning_country'] == 'PL']\n",
    "polish_wins_by_year = polish_wins['year'].value_counts().sort_index()\n",
    "polish_wins_by_year.plot(kind='line', marker='o')\n",
    "plt.xlabel('Year')\n",
    "plt.ylabel('Number of Wins')\n",
    "plt.title('Number of Wins by Polish Team Over the Years')\n",
    "plt.show()"
   ]
  },
  {
   "cell_type": "code",
   "execution_count": null,
   "metadata": {},
   "outputs": [],
   "source": [
    "\n",
    "players_nona = players.dropna(subset=['ranking'])\n",
    "average_ranking = players_nona.groupby('country_code')['ranking'].mean()\n",
    "player_count = players['country_code'].value_counts()\n",
    "normalized_ranking = average_ranking / player_count\n",
    "top_teams = normalized_ranking.sort_values(ascending=True)\n",
    "top_teams = top_teams[top_teams > 0].head(10)\n",
    "plt.figure(figsize=(12, 8))\n",
    "sns.barplot(x=top_teams.index, y=top_teams.values)\n",
    "plt.title('Top 10 Nations - Normalized Average Rankings')\n",
    "plt.xlabel('Country')\n",
    "plt.ylabel('Normalized Average Ranking')\n",
    "plt.xticks(rotation=45)\n",
    "plt.show()\n"
   ]
  },
  {
   "cell_type": "code",
   "execution_count": null,
   "metadata": {},
   "outputs": [],
   "source": [
    "transfers_country = transfers.merge(teams, left_on='old_team_id', right_on='team_id', how='left')\n",
    "transfers_country = transfers_country.merge(teams, left_on='new_team_id', right_on='team_id', how='left')\n",
    "\n",
    "transfer_countries_old = transfers_country['country_code_x'].value_counts()\n",
    "transfer_countries_new = transfers_country['country_code_y'].value_counts()\n",
    "\n",
    "transfer_countries_sum = transfer_countries_old.add(transfer_countries_new, fill_value=0)\n",
    "transfer_countries_sum = transfer_countries_sum.sort_values(ascending=True)\n",
    "transfer_countries_new = transfer_countries_new.reindex(transfer_countries_sum.index).tail(20)\n",
    "transfer_countries_old = transfer_countries_old.reindex(transfer_countries_sum.index).tail(20)\n",
    "\n",
    "\n",
    "fig, ax = plt.subplots(1, 2, figsize=(12, 12), sharey='all')\n",
    "plt.subplots_adjust(wspace=0.4)\n",
    "\n",
    "ax[0].set_yticklabels(transfer_countries_old.index, fontsize=20)\n",
    "ax[1].set_yticklabels(transfer_countries_old.index, fontsize=14)\n",
    "\n",
    "ax[1].set_xlim([0, 2100])\n",
    "ax[0].set_xlim([2100, 0])\n",
    "\n",
    "ax[0].set_ylabel('Country', fontsize=20)\n",
    "ax[1].set_xlabel('Number of Transfers', fontsize=20)\n",
    "ax[0].set_xlabel('Number of Transfers', fontsize=20)\n",
    "ax[0].set_title('Outgoing Transfers', fontsize=20)\n",
    "ax[1].set_title('Incoming Transfers', fontsize=20)\n",
    "ax[0].yaxis.tick_right()\n",
    "\n",
    "sns.barplot(y=transfer_countries_old.index, x=transfer_countries_old.values, ax=ax[0])\n",
    "sns.barplot(y=transfer_countries_new.index, x=transfer_countries_new.values, ax=ax[1])\n",
    "plt.tight_layout()\n",
    "plt.show()\n"
   ]
  },
  {
   "cell_type": "code",
   "execution_count": null,
   "metadata": {},
   "outputs": [],
   "source": [
    "leagues_global = [\n",
    "    'World Championships', 'World League', 'World Cup', 'The Olympics',\n",
    "    'The Olympic Qualification', 'European Championships', \n",
    "    'European Supercup', 'Volleyball Nations League',\n",
    "    'Champions League', 'CEV Olympic Qualification'\n",
    "]\n",
    "\n",
    "aws = [awards[awards['league'] == ll] for ll in leagues_global]\n",
    "awards_league_global = pd.DataFrame(aws[0])\n",
    "[awards_league_global._append(aw) for aw in aws[1:]]\n",
    "\n",
    "awards_with_players = awards_league_global.merge(players, on='player_id', how='left')\n",
    "award_counts = awards_with_players.groupby([\"award_date\", \"country_code\"]).size().reset_index(name=\"count\")\n",
    "sorted_awards = award_counts.sort_values(\"count\", ascending=False).head(40)\n",
    "filtered_awards = awards_with_players.merge(sorted_awards, on=[\"award_date\", \"country_code\"], how=\"inner\")\n",
    "sns.displot(data=filtered_awards, x=\"award_date\", hue=\"country_code\", multiple=\"stack\")\n",
    "plt.show()"
   ]
  },
  {
   "cell_type": "code",
   "execution_count": null,
   "metadata": {},
   "outputs": [],
   "source": [
    "transfers_collapsed = transfers.drop_duplicates(subset=['player_name', 'old_team_id', 'new_team_id'], keep='first', inplace=False, ignore_index=False)\n",
    "not_nan = transfers_collapsed['new_team_id'].notna()\n",
    "transfers_collapsed[not_nan]"
   ]
  },
  {
   "cell_type": "code",
   "execution_count": null,
   "metadata": {},
   "outputs": [],
   "source": [
    "awards.head()"
   ]
  },
  {
   "cell_type": "code",
   "execution_count": null,
   "metadata": {},
   "outputs": [],
   "source": [
    "body_builders.head()"
   ]
  },
  {
   "cell_type": "code",
   "execution_count": null,
   "metadata": {},
   "outputs": [],
   "source": [
    "coaches.head()"
   ]
  },
  {
   "cell_type": "code",
   "execution_count": null,
   "metadata": {},
   "outputs": [],
   "source": [
    "countries.head()"
   ]
  },
  {
   "cell_type": "code",
   "execution_count": null,
   "metadata": {},
   "outputs": [],
   "source": [
    "matches.head()"
   ]
  },
  {
   "cell_type": "code",
   "execution_count": null,
   "metadata": {},
   "outputs": [],
   "source": [
    "physiotherapists.head()"
   ]
  },
  {
   "cell_type": "code",
   "execution_count": null,
   "metadata": {},
   "outputs": [],
   "source": [
    "players.head()"
   ]
  },
  {
   "cell_type": "code",
   "execution_count": null,
   "metadata": {},
   "outputs": [],
   "source": [
    "presidents.head()"
   ]
  },
  {
   "cell_type": "code",
   "execution_count": null,
   "metadata": {},
   "outputs": [],
   "source": [
    "press_offices.head()"
   ]
  },
  {
   "cell_type": "code",
   "execution_count": null,
   "metadata": {},
   "outputs": [],
   "source": [
    "sport_directors.head()"
   ]
  },
  {
   "cell_type": "code",
   "execution_count": null,
   "metadata": {},
   "outputs": [],
   "source": [
    "stadiums.head()"
   ]
  },
  {
   "cell_type": "code",
   "execution_count": null,
   "metadata": {},
   "outputs": [],
   "source": [
    "statisticians.head()"
   ]
  },
  {
   "cell_type": "code",
   "execution_count": null,
   "metadata": {},
   "outputs": [],
   "source": [
    "team_mangers.head()"
   ]
  },
  {
   "cell_type": "code",
   "execution_count": null,
   "metadata": {},
   "outputs": [],
   "source": [
    "teams.head()"
   ]
  },
  {
   "cell_type": "code",
   "execution_count": null,
   "metadata": {},
   "outputs": [],
   "source": [
    "transfers"
   ]
  },
  {
   "cell_type": "code",
   "execution_count": null,
   "metadata": {},
   "outputs": [],
   "source": [
    "print(matches['league'].unique())"
   ]
  },
  {
   "attachments": {},
   "cell_type": "markdown",
   "metadata": {},
   "source": []
  }
 ],
 "metadata": {
  "kernelspec": {
   "display_name": "Python 3",
   "language": "python",
   "name": "python3"
  },
  "language_info": {
   "codemirror_mode": {
    "name": "ipython",
    "version": 3
   },
   "file_extension": ".py",
   "mimetype": "text/x-python",
   "name": "python",
   "nbconvert_exporter": "python",
   "pygments_lexer": "ipython3",
   "version": "3.11.3"
  },
  "orig_nbformat": 4
 },
 "nbformat": 4,
 "nbformat_minor": 2
}
