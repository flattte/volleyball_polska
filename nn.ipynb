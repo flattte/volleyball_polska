{
 "cells": [
  {
   "cell_type": "code",
   "execution_count": 21,
   "metadata": {},
   "outputs": [],
   "source": [
    "import numpy as np\n",
    "import warnings\n",
    "warnings.simplefilter(action='ignore', category=Warning)\n",
    "import pandas as pd\n",
    "import matplotlib.pyplot as plt\n",
    "import seaborn as sns"
   ]
  },
  {
   "cell_type": "code",
   "execution_count": 22,
   "metadata": {},
   "outputs": [],
   "source": [
    "# ladowanie danych\n",
    "awards = pd.read_csv(\"./data/awards.csv\")\n",
    "body_builders = pd.read_csv(\"./data/body_builders.csv\")\n",
    "coaches = pd.read_csv(\"./data/coaches.csv\")\n",
    "countries = pd.read_csv(\"./data/countries.csv\")\n",
    "matches = pd.read_csv(\"./data/matches.csv\")\n",
    "physiotherapists = pd.read_csv(\"./data/physiotherapists.csv\")\n",
    "players = pd.read_csv(\"./data/players.csv\")\n",
    "presidents = pd.read_csv(\"./data/presidents.csv\")\n",
    "press_offices = pd.read_csv(\"./data/press_offices.csv\")\n",
    "sport_directors = pd.read_csv(\"./data/sport_directors.csv\")\n",
    "stadiums = pd.read_csv(\"./data/stadiums.csv\")\n",
    "statisticians = pd.read_csv(\"./data/statisticians.csv\")\n",
    "team_mangers = pd.read_csv(\"./data/team_mangers.csv\")\n",
    "teams = pd.read_csv(\"./data/teams.csv\")\n",
    "transfers = pd.read_csv(\"./data/transfers.csv\")"
   ]
  },
  {
   "cell_type": "code",
   "execution_count": 23,
   "metadata": {},
   "outputs": [
    {
     "data": {
      "text/html": [
       "<div>\n",
       "<style scoped>\n",
       "    .dataframe tbody tr th:only-of-type {\n",
       "        vertical-align: middle;\n",
       "    }\n",
       "\n",
       "    .dataframe tbody tr th {\n",
       "        vertical-align: top;\n",
       "    }\n",
       "\n",
       "    .dataframe thead th {\n",
       "        text-align: right;\n",
       "    }\n",
       "</style>\n",
       "<table border=\"1\" class=\"dataframe\">\n",
       "  <thead>\n",
       "    <tr style=\"text-align: right;\">\n",
       "      <th></th>\n",
       "      <th>team_id</th>\n",
       "      <th>team_name</th>\n",
       "      <th>country_code</th>\n",
       "      <th>n_matches</th>\n",
       "      <th>n_tournaments</th>\n",
       "      <th>town</th>\n",
       "      <th>founded</th>\n",
       "    </tr>\n",
       "  </thead>\n",
       "  <tbody>\n",
       "    <tr>\n",
       "      <th>0</th>\n",
       "      <td>t10001</td>\n",
       "      <td>TSV Reinbek</td>\n",
       "      <td>DE</td>\n",
       "      <td>0</td>\n",
       "      <td>0</td>\n",
       "      <td>Reinbek</td>\n",
       "      <td>\\r</td>\n",
       "    </tr>\n",
       "    <tr>\n",
       "      <th>1</th>\n",
       "      <td>t10016</td>\n",
       "      <td>Molde VBK</td>\n",
       "      <td>NO</td>\n",
       "      <td>0</td>\n",
       "      <td>0</td>\n",
       "      <td>Molde</td>\n",
       "      <td>\\r</td>\n",
       "    </tr>\n",
       "    <tr>\n",
       "      <th>2</th>\n",
       "      <td>t10017</td>\n",
       "      <td>Al-Salam</td>\n",
       "      <td>SA</td>\n",
       "      <td>0</td>\n",
       "      <td>4</td>\n",
       "      <td>Qatif</td>\n",
       "      <td>\\r</td>\n",
       "    </tr>\n",
       "    <tr>\n",
       "      <th>3</th>\n",
       "      <td>t10018</td>\n",
       "      <td>AZS Kraków</td>\n",
       "      <td>PL</td>\n",
       "      <td>0</td>\n",
       "      <td>14</td>\n",
       "      <td>Kraków</td>\n",
       "      <td>\\r</td>\n",
       "    </tr>\n",
       "    <tr>\n",
       "      <th>4</th>\n",
       "      <td>t10019</td>\n",
       "      <td>Spójnia Warszawa</td>\n",
       "      <td>PL</td>\n",
       "      <td>0</td>\n",
       "      <td>3</td>\n",
       "      <td>Warszawa</td>\n",
       "      <td>1949</td>\n",
       "    </tr>\n",
       "    <tr>\n",
       "      <th>...</th>\n",
       "      <td>...</td>\n",
       "      <td>...</td>\n",
       "      <td>...</td>\n",
       "      <td>...</td>\n",
       "      <td>...</td>\n",
       "      <td>...</td>\n",
       "      <td>...</td>\n",
       "    </tr>\n",
       "    <tr>\n",
       "      <th>8577</th>\n",
       "      <td>t9979</td>\n",
       "      <td>Bioresurs</td>\n",
       "      <td>UA</td>\n",
       "      <td>23</td>\n",
       "      <td>5</td>\n",
       "      <td>Zhytomyr</td>\n",
       "      <td>\\r</td>\n",
       "    </tr>\n",
       "    <tr>\n",
       "      <th>8578</th>\n",
       "      <td>t9980</td>\n",
       "      <td>Mechmech</td>\n",
       "      <td>LB</td>\n",
       "      <td>0</td>\n",
       "      <td>3</td>\n",
       "      <td>Biblos</td>\n",
       "      <td>\\r</td>\n",
       "    </tr>\n",
       "    <tr>\n",
       "      <th>8579</th>\n",
       "      <td>t9987</td>\n",
       "      <td>Tekhnolog-Belogorie</td>\n",
       "      <td>RU</td>\n",
       "      <td>0</td>\n",
       "      <td>11</td>\n",
       "      <td>Belgorod</td>\n",
       "      <td>\\r</td>\n",
       "    </tr>\n",
       "    <tr>\n",
       "      <th>8580</th>\n",
       "      <td>t9998</td>\n",
       "      <td>Club Talentos Chiclayo</td>\n",
       "      <td>PE</td>\n",
       "      <td>14</td>\n",
       "      <td>3</td>\n",
       "      <td>Chiclayo</td>\n",
       "      <td>2011</td>\n",
       "    </tr>\n",
       "    <tr>\n",
       "      <th>8581</th>\n",
       "      <td>t9999</td>\n",
       "      <td>Club San Antonio</td>\n",
       "      <td>PE</td>\n",
       "      <td>14</td>\n",
       "      <td>3</td>\n",
       "      <td>Callao</td>\n",
       "      <td>2014</td>\n",
       "    </tr>\n",
       "  </tbody>\n",
       "</table>\n",
       "<p>8582 rows × 7 columns</p>\n",
       "</div>"
      ],
      "text/plain": [
       "     team_id               team_name country_code  n_matches  n_tournaments  \\\n",
       "0     t10001             TSV Reinbek           DE          0              0   \n",
       "1     t10016               Molde VBK           NO          0              0   \n",
       "2     t10017                Al-Salam           SA          0              4   \n",
       "3     t10018              AZS Kraków           PL          0             14   \n",
       "4     t10019        Spójnia Warszawa           PL          0              3   \n",
       "...      ...                     ...          ...        ...            ...   \n",
       "8577   t9979               Bioresurs           UA         23              5   \n",
       "8578   t9980                Mechmech           LB          0              3   \n",
       "8579   t9987     Tekhnolog-Belogorie           RU          0             11   \n",
       "8580   t9998  Club Talentos Chiclayo           PE         14              3   \n",
       "8581   t9999        Club San Antonio           PE         14              3   \n",
       "\n",
       "          town founded  \n",
       "0      Reinbek      \\r  \n",
       "1        Molde      \\r  \n",
       "2        Qatif      \\r  \n",
       "3       Kraków      \\r  \n",
       "4     Warszawa    1949  \n",
       "...        ...     ...  \n",
       "8577  Zhytomyr      \\r  \n",
       "8578    Biblos      \\r  \n",
       "8579  Belgorod      \\r  \n",
       "8580  Chiclayo    2011  \n",
       "8581    Callao    2014  \n",
       "\n",
       "[8582 rows x 7 columns]"
      ]
     },
     "execution_count": 23,
     "metadata": {},
     "output_type": "execute_result"
    }
   ],
   "source": [
    "# customize the data\n",
    "polish_teams = teams[teams[\"country_code\"] == \"PL\"]\n",
    "polish_players = players[players[\"country_code\"] == \"PL\"]\n",
    "\n",
    "teams"
   ]
  },
  {
   "cell_type": "code",
   "execution_count": 24,
   "metadata": {},
   "outputs": [
    {
     "data": {
      "text/plain": [
       "<Figure size 1000x1000 with 0 Axes>"
      ]
     },
     "metadata": {},
     "output_type": "display_data"
    },
    {
     "data": {
      "image/png": "[encoded data removed]",
      "text/plain": [
       "<Figure size 672.111x500 with 1 Axes>"
      ]
     },
     "metadata": {},
     "output_type": "display_data"
    }
   ],
   "source": [
    "# merge metches with team\n",
    "matches_have_id = matches[\"first_team_id\"].notna() & matches[\"second_team_id\"].notna()\n",
    "teams_slice = teams[[\"country_code\", \"team_id\", \"team_name\"]]\n",
    "mt = matches[matches_have_id]\n",
    "mt = mt.merge(teams_slice, left_on=\"first_team_id\", right_on=\"team_id\").rename(\n",
    "    columns={\"country_code\": \"first_team_country_code\", \"team_name\": \"first_team_name\"}\n",
    ")\n",
    "mt = mt.merge(teams_slice, left_on=\"second_team_id\", right_on=\"team_id\").rename(\n",
    "    columns={\n",
    "        \"country_code\": \"second_team_country_code\",\n",
    "        \"team_name\": \"second_team_name\",\n",
    "    }\n",
    ")\n",
    "mt[\"origin_winning_country\"] = np.where(\n",
    "    mt[\"n_set_team1\"] > mt[\"n_set_team2\"],\n",
    "    mt[\"first_team_country_code\"],\n",
    "    mt[\"second_team_country_code\"],\n",
    ")\n",
    "mt\n",
    "# plot histogram of origin_winning country\n",
    "plt.figure(figsize=(10, 10))\n",
    "\n",
    "is_polish_team_against_other = ((mt['first_team_country_code'] == 'PL') | (mt['second_team_country_code'] == 'PL')) &  ~((mt['first_team_country_code'] == 'PL') & (mt['second_team_country_code'] == 'PL'))\n",
    "polish_vs_other = mt[is_polish_team_against_other]\n",
    "# polish_vs_other\n",
    "polish_vs_other['year'] = pd.to_datetime(polish_vs_other['date'], format='%m/%d/%Y').dt.year \n",
    "\n",
    "polish_vs_other\n",
    "# plot the wins of teams with origin_winning_country equal to 'PL' on a histogram by year\n",
    "sns.displot(data=polish_vs_other, x=\"year\", hue=\"origin_winning_country\", multiple=\"stack\")\n",
    "plt.show()"
   ]
  },
  {
   "cell_type": "code",
   "execution_count": 30,
   "metadata": {},
   "outputs": [
    {
     "data": {
      "image/png": "[encoded data removed]",
      "text/plain": [
       "<Figure size 1000x600 with 1 Axes>"
      ]
     },
     "metadata": {},
     "output_type": "display_data"
    }
   ],
   "source": [
    "plt.figure(figsize=(10, 6))\n",
    "polish_wins = polish_vs_other[polish_vs_other['origin_winning_country'] == 'PL']\n",
    "polish_wins_by_year = polish_wins['year'].value_counts().sort_index()\n",
    "polish_wins_by_year.plot(kind='line', marker='o')\n",
    "plt.xlabel('Year')\n",
    "plt.ylabel('Number of Wins')\n",
    "plt.title('Number of Wins by Polish Team Over the Years')\n",
    "plt.show()"
   ]
  },
  {
   "cell_type": "code",
   "execution_count": null,
   "metadata": {},
   "outputs": [],
   "source": [
    "awards.head()"
   ]
  },
  {
   "cell_type": "code",
   "execution_count": null,
   "metadata": {},
   "outputs": [],
   "source": [
    "body_builders.head()"
   ]
  },
  {
   "cell_type": "code",
   "execution_count": null,
   "metadata": {},
   "outputs": [],
   "source": [
    "coaches.head()"
   ]
  },
  {
   "cell_type": "code",
   "execution_count": null,
   "metadata": {},
   "outputs": [],
   "source": [
    "countries.head()"
   ]
  },
  {
   "cell_type": "code",
   "execution_count": null,
   "metadata": {},
   "outputs": [],
   "source": [
    "matches.head()"
   ]
  },
  {
   "cell_type": "code",
   "execution_count": null,
   "metadata": {},
   "outputs": [],
   "source": [
    "physiotherapists.head()"
   ]
  },
  {
   "cell_type": "code",
   "execution_count": null,
   "metadata": {},
   "outputs": [],
   "source": [
    "players.head()"
   ]
  },
  {
   "cell_type": "code",
   "execution_count": null,
   "metadata": {},
   "outputs": [],
   "source": [
    "presidents.head()"
   ]
  },
  {
   "cell_type": "code",
   "execution_count": null,
   "metadata": {},
   "outputs": [],
   "source": [
    "press_offices.head()"
   ]
  },
  {
   "cell_type": "code",
   "execution_count": null,
   "metadata": {},
   "outputs": [],
   "source": [
    "sport_directors.head()"
   ]
  },
  {
   "cell_type": "code",
   "execution_count": null,
   "metadata": {},
   "outputs": [],
   "source": [
    "stadiums.head()"
   ]
  },
  {
   "cell_type": "code",
   "execution_count": null,
   "metadata": {},
   "outputs": [],
   "source": [
    "statisticians.head()"
   ]
  },
  {
   "cell_type": "code",
   "execution_count": null,
   "metadata": {},
   "outputs": [],
   "source": [
    "team_mangers.head()"
   ]
  },
  {
   "cell_type": "code",
   "execution_count": null,
   "metadata": {},
   "outputs": [],
   "source": [
    "teams.head()"
   ]
  },
  {
   "cell_type": "code",
   "execution_count": null,
   "metadata": {},
   "outputs": [],
   "source": [
    "transfers.head()"
   ]
  }
 ],
 "metadata": {
  "kernelspec": {
   "display_name": "Python 3",
   "language": "python",
   "name": "python3"
  },
  "language_info": {
   "codemirror_mode": {
    "name": "ipython",
    "version": 3
   },
   "file_extension": ".py",
   "mimetype": "text/x-python",
   "name": "python",
   "nbconvert_exporter": "python",
   "pygments_lexer": "ipython3",
   "version": "3.11.3"
  },
  "orig_nbformat": 4
 },
 "nbformat": 4,
 "nbformat_minor": 2
}
