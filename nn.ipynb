{
 "cells": [
  {
   "cell_type": "code",
   "execution_count": 2,
   "metadata": {},
   "outputs": [],
   "source": [
    "import numpy as np\n",
    "import pandas as pd\n",
    "import matplotlib.pyplot as plt\n",
    "import seaborn as sns"
   ]
  },
  {
   "cell_type": "code",
   "execution_count": 3,
   "metadata": {},
   "outputs": [],
   "source": [
    "# ladowanie danych\n",
    "awards = pd.read_csv(\"./data/awards.csv\")\n",
    "body_builders = pd.read_csv(\"./data/body_builders.csv\")\n",
    "coaches = pd.read_csv(\"./data/coaches.csv\")\n",
    "countries = pd.read_csv(\"./data/countries.csv\")\n",
    "matches = pd.read_csv(\"./data/matches.csv\")\n",
    "physiotherapists = pd.read_csv(\"./data/physiotherapists.csv\")\n",
    "players = pd.read_csv(\"./data/players.csv\")\n",
    "presidents = pd.read_csv(\"./data/presidents.csv\")\n",
    "press_offices = pd.read_csv(\"./data/press_offices.csv\")\n",
    "sport_directors = pd.read_csv(\"./data/sport_directors.csv\")\n",
    "stadiums = pd.read_csv(\"./data/stadiums.csv\")\n",
    "statisticians = pd.read_csv(\"./data/statisticians.csv\")\n",
    "team_mangers = pd.read_csv(\"./data/team_mangers.csv\")\n",
    "teams = pd.read_csv(\"./data/teams.csv\")\n",
    "transfers = pd.read_csv(\"./data/transfers.csv\")"
   ]
  },
  {
   "cell_type": "code",
   "execution_count": 6,
   "metadata": {},
   "outputs": [
    {
     "data": {
      "text/html": [
       "<div>\n",
       "<style scoped>\n",
       "    .dataframe tbody tr th:only-of-type {\n",
       "        vertical-align: middle;\n",
       "    }\n",
       "\n",
       "    .dataframe tbody tr th {\n",
       "        vertical-align: top;\n",
       "    }\n",
       "\n",
       "    .dataframe thead th {\n",
       "        text-align: right;\n",
       "    }\n",
       "</style>\n",
       "<table border=\"1\" class=\"dataframe\">\n",
       "  <thead>\n",
       "    <tr style=\"text-align: right;\">\n",
       "      <th></th>\n",
       "      <th>team_id</th>\n",
       "      <th>team_name</th>\n",
       "      <th>country_code</th>\n",
       "      <th>n_matches</th>\n",
       "      <th>n_tournaments</th>\n",
       "      <th>town</th>\n",
       "      <th>founded</th>\n",
       "    </tr>\n",
       "  </thead>\n",
       "  <tbody>\n",
       "    <tr>\n",
       "      <th>0</th>\n",
       "      <td>t10001</td>\n",
       "      <td>TSV Reinbek</td>\n",
       "      <td>DE</td>\n",
       "      <td>0</td>\n",
       "      <td>0</td>\n",
       "      <td>Reinbek</td>\n",
       "      <td>\\r</td>\n",
       "    </tr>\n",
       "    <tr>\n",
       "      <th>1</th>\n",
       "      <td>t10016</td>\n",
       "      <td>Molde VBK</td>\n",
       "      <td>NO</td>\n",
       "      <td>0</td>\n",
       "      <td>0</td>\n",
       "      <td>Molde</td>\n",
       "      <td>\\r</td>\n",
       "    </tr>\n",
       "    <tr>\n",
       "      <th>2</th>\n",
       "      <td>t10017</td>\n",
       "      <td>Al-Salam</td>\n",
       "      <td>SA</td>\n",
       "      <td>0</td>\n",
       "      <td>4</td>\n",
       "      <td>Qatif</td>\n",
       "      <td>\\r</td>\n",
       "    </tr>\n",
       "    <tr>\n",
       "      <th>3</th>\n",
       "      <td>t10018</td>\n",
       "      <td>AZS Kraków</td>\n",
       "      <td>PL</td>\n",
       "      <td>0</td>\n",
       "      <td>14</td>\n",
       "      <td>Kraków</td>\n",
       "      <td>\\r</td>\n",
       "    </tr>\n",
       "    <tr>\n",
       "      <th>4</th>\n",
       "      <td>t10019</td>\n",
       "      <td>Spójnia Warszawa</td>\n",
       "      <td>PL</td>\n",
       "      <td>0</td>\n",
       "      <td>3</td>\n",
       "      <td>Warszawa</td>\n",
       "      <td>1949</td>\n",
       "    </tr>\n",
       "  </tbody>\n",
       "</table>\n",
       "</div>"
      ],
      "text/plain": [
       "  team_id         team_name country_code  n_matches  n_tournaments      town  \\\n",
       "0  t10001       TSV Reinbek           DE          0              0   Reinbek   \n",
       "1  t10016         Molde VBK           NO          0              0     Molde   \n",
       "2  t10017          Al-Salam           SA          0              4     Qatif   \n",
       "3  t10018        AZS Kraków           PL          0             14    Kraków   \n",
       "4  t10019  Spójnia Warszawa           PL          0              3  Warszawa   \n",
       "\n",
       "  founded  \n",
       "0      \\r  \n",
       "1      \\r  \n",
       "2      \\r  \n",
       "3      \\r  \n",
       "4    1949  "
      ]
     },
     "execution_count": 6,
     "metadata": {},
     "output_type": "execute_result"
    }
   ],
   "source": [
    "# customize the data\n",
    "\n",
    "polish_teams = teams[teams['country_code'] == 'PL']\n",
    "\n",
    "\n",
    "\n"
   ]
  },
  {
   "cell_type": "code",
   "execution_count": null,
   "metadata": {},
   "outputs": [],
   "source": []
  }
 ],
 "metadata": {
  "kernelspec": {
   "display_name": "Python 3",
   "language": "python",
   "name": "python3"
  },
  "language_info": {
   "codemirror_mode": {
    "name": "ipython",
    "version": 3
   },
   "file_extension": ".py",
   "mimetype": "text/x-python",
   "name": "python",
   "nbconvert_exporter": "python",
   "pygments_lexer": "ipython3",
   "version": "3.11.3"
  },
  "orig_nbformat": 4
 },
 "nbformat": 4,
 "nbformat_minor": 2
}
